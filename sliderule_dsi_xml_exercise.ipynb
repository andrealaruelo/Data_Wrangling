{
 "cells": [
  {
   "cell_type": "markdown",
   "metadata": {},
   "source": [
    "# XML example and exercise\n",
    "****\n",
    "+ study examples of accessing nodes in XML tree structure  \n",
    "+ work on exercise to be completed and submitted\n",
    "****\n",
    "+ reference: https://docs.python.org/2.7/library/xml.etree.elementtree.html\n",
    "+ data source: http://www.dbis.informatik.uni-goettingen.de/Mondial\n",
    "****"
   ]
  },
  {
   "cell_type": "code",
   "execution_count": 228,
   "metadata": {
    "collapsed": true
   },
   "outputs": [],
   "source": [
    "from xml.etree import ElementTree as ET"
   ]
  },
  {
   "cell_type": "markdown",
   "metadata": {},
   "source": [
    "## XML example\n",
    "\n",
    "+ for details about tree traversal and iterators, see https://docs.python.org/2.7/library/xml.etree.elementtree.html"
   ]
  },
  {
   "cell_type": "code",
   "execution_count": 229,
   "metadata": {
    "collapsed": true
   },
   "outputs": [],
   "source": [
    "document_tree = ET.parse( './data/mondial_database_less.xml' )"
   ]
  },
  {
   "cell_type": "code",
   "execution_count": 230,
   "metadata": {
    "collapsed": false
   },
   "outputs": [
    {
     "name": "stdout",
     "output_type": "stream",
     "text": [
      "Albania\n",
      "Greece\n",
      "Macedonia\n",
      "Serbia\n",
      "Montenegro\n",
      "Kosovo\n",
      "Andorra\n"
     ]
    }
   ],
   "source": [
    "# print names of all countries\n",
    "for child in document_tree.getroot():\n",
    "    print child.find('name').text\n",
    "    \n",
    "#Note: This example works with Python 2.7 but not for higher versions."
   ]
  },
  {
   "cell_type": "code",
   "execution_count": 231,
   "metadata": {
    "collapsed": false
   },
   "outputs": [
    {
     "name": "stdout",
     "output_type": "stream",
     "text": [
      "* Albania: Tirana, Shkodër, Durrës, Vlorë, Elbasan, Korçë\n",
      "* Greece: Komotini, Kavala, Athina, Peiraias, Peristeri, Acharnes, Patra, Kozani, Kerkyra, Ioannina, Thessaloniki, Iraklio, Chania, Ermoupoli, Rhodes, Tripoli, Lamia, Chalkida, Larissa, Volos, Mytilini, Karyes\n",
      "* Macedonia: Skopje, Kumanovo\n",
      "* Serbia: Beograd, Novi Sad, Niš\n",
      "* Montenegro: Podgorica\n",
      "* Kosovo: Prishtine\n",
      "* Andorra: Andorra la Vella\n"
     ]
    }
   ],
   "source": [
    "# print names of all countries and their cities\n",
    "for element in document_tree.iterfind('country'):\n",
    "    print '* ' + element.find('name').text + ':',\n",
    "    capitals_string = ''\n",
    "    for subelement in element.getiterator('city'):\n",
    "        capitals_string += subelement.find('name').text + ', '\n",
    "    print capitals_string[:-2]"
   ]
  },
  {
   "cell_type": "code",
   "execution_count": 232,
   "metadata": {
    "collapsed": false
   },
   "outputs": [
    {
     "name": "stdout",
     "output_type": "stream",
     "text": [
      "* Albania: Andorra la Vella\n",
      "* Greece: Andorra la Vella\n",
      "* Macedonia: Andorra la Vella\n",
      "* Serbia: Andorra la Vella\n",
      "* Montenegro: Andorra la Vella\n",
      "* Kosovo: Andorra la Vella\n",
      "* Andorra: Andorra la Vella\n"
     ]
    }
   ],
   "source": [
    "# print names of all countries and their cities\n",
    "for country in document_tree.iterfind('country'):\n",
    "    print '* ' + country.find('name').text + ':',\n",
    "    capitals_string = ''\n",
    "    for subelement in element.getiterator('city'):\n",
    "        capitals_string += subelement.find('name').text + ', '\n",
    "    print capitals_string[:-2]"
   ]
  },
  {
   "cell_type": "markdown",
   "metadata": {},
   "source": [
    "****\n",
    "## XML exercise\n",
    "\n",
    "Using data in 'data/mondial_database.xml', the examples above, and refering to https://docs.python.org/2.7/library/xml.etree.elementtree.html, find\n",
    "\n",
    "1. 10 countries with the lowest infant mortality rates\n",
    "2. 10 cities with the largest population\n",
    "3. 10 ethnic groups with the largest overall populations (sum of best/latest estimates over all countries)\n",
    "4. name and country of a) longest river, b) largest lake and c) airport at highest elevation"
   ]
  },
  {
   "cell_type": "code",
   "execution_count": 233,
   "metadata": {
    "collapsed": false
   },
   "outputs": [],
   "source": [
    "document = ET.parse( './data/mondial_database.xml' )"
   ]
  },
  {
   "cell_type": "code",
   "execution_count": 267,
   "metadata": {
    "collapsed": false
   },
   "outputs": [],
   "source": [
    "# print infant mortality of all countries\n",
    "for child in document.getroot():\n",
    "    if hasattr(child, 'infant_mortality'):\n",
    "    #if (child.find('infant_mortality').):\n",
    "        print child.find('infant_mortality').text\n",
    "        \n",
    "       "
   ]
  },
  {
   "cell_type": "code",
   "execution_count": 268,
   "metadata": {
    "collapsed": false
   },
   "outputs": [],
   "source": [
    "# Inspect the dataset: print infant mortality of all countries\n",
    "#for child in document.getroot():\n",
    "#    name = child.find('name').text\n",
    "#    node = child.find('infant_mortality')\n",
    "#    if node is not None:   \n",
    "#        print '%s: %s' % (name, node.text)       \n",
    "#        \n",
    "#    else:\n",
    "#        print 'Unable to find %s for ountry %s' % ('infant_mortality',name)          "
   ]
  },
  {
   "cell_type": "code",
   "execution_count": 269,
   "metadata": {
    "collapsed": false
   },
   "outputs": [
    {
     "data": {
      "text/plain": [
       "[('1.81', 'Monaco'),\n",
       " ('10.16', 'Romania'),\n",
       " ('10.2', 'Fiji'),\n",
       " ('10.48', 'Brunei'),\n",
       " ('10.5', 'Grenada'),\n",
       " ('10.59', 'Mauritius'),\n",
       " ('10.7', 'Panama'),\n",
       " ('10.77', 'Seychelles'),\n",
       " ('10.92', 'United Arab Emirates'),\n",
       " ('10.93', 'Barbados')]"
      ]
     },
     "execution_count": 269,
     "metadata": {},
     "output_type": "execute_result"
    }
   ],
   "source": [
    "#Exercise 1: 10 countries with the lowest infant mortality rates\n",
    "\n",
    "data = []\n",
    "\n",
    "for child in document.getroot():\n",
    "    name = child.find('name').text\n",
    "    node = child.find('infant_mortality')\n",
    "    if node is not None:\n",
    "        data.append((node.text, name))      \n",
    "\n",
    "data.sort(reverse=False)\n",
    "data[0:10]"
   ]
  },
  {
   "cell_type": "code",
   "execution_count": 270,
   "metadata": {
    "collapsed": false
   },
   "outputs": [
    {
     "data": {
      "text/plain": [
       "[(22315474, 'Shanghai'),\n",
       " (13710512, 'Istanbul'),\n",
       " (12442373, 'Mumbai'),\n",
       " (11979529, 'Moskva'),\n",
       " (11716620, 'Beijing'),\n",
       " (11152344, u'S\\xe3o Paulo'),\n",
       " (11090314, 'Tianjin'),\n",
       " (11071424, 'Guangzhou'),\n",
       " (11034555, 'Delhi'),\n",
       " (10358381, 'Shenzhen')]"
      ]
     },
     "execution_count": 270,
     "metadata": {},
     "output_type": "execute_result"
    }
   ],
   "source": [
    "#Exercise 2: 10 cities with the largest population\n",
    "\n",
    "#list to store the most recent population of each city \n",
    "most_recent_population_of_each_city = []\n",
    "\n",
    "#Iterate countries\n",
    "for country in document.iterfind('country'):    \n",
    "    #Iterate cities \n",
    "    for city in country.getiterator('city'):      \n",
    "        \n",
    "        #Get all the population measurements for this city\n",
    "        population = city.findall('population')\n",
    "        \n",
    "        city_population =[]         \n",
    "        \n",
    "        if len(population) > 0:  #There are cities with no information about the population (len(population) == 0)          \n",
    "            #Iterate population \n",
    "            for city_population_year in population: \n",
    "                city_population.append((city_population_year.attrib['year'], city_population_year)) \n",
    "     \n",
    "            #end for\n",
    "        \n",
    "            #Sort city population measurements by year\n",
    "            city_population.sort(reverse=True) #sort by year in descending order\n",
    "            \n",
    "            #Save the most recent population measure for this city\n",
    "            #city_name = city.find('name').text.encode('utf-8')            \n",
    "            most_recent_population_of_each_city.append((int(city_population[0][1].text), city.find('name').text)) \n",
    "    \n",
    "most_recent_population_of_each_city.sort(reverse=True) #sort by population values in descending order\n",
    "\n",
    "#Result:\n",
    "most_recent_population_of_each_city[0:10]"
   ]
  },
  {
   "cell_type": "code",
   "execution_count": 271,
   "metadata": {
    "collapsed": false
   },
   "outputs": [],
   "source": [
    "#Exercise 3: 10 ethnic groups with the largest overall populations (sum of best/latest estimates over all countries)"
   ]
  },
  {
   "cell_type": "code",
   "execution_count": 272,
   "metadata": {
    "collapsed": false
   },
   "outputs": [],
   "source": [
    "#list to store the most recent population of each country \n",
    "#most_recent_population_of_each_country = []\n",
    "\n",
    "list_ethnicgroup = []\n",
    "list_group_population = []\n",
    "\n",
    "#Iterate countries\n",
    "for country in document.iterfind('country'): \n",
    "    \n",
    "    #print country.find('name').text\n",
    "    \n",
    "    #Get all the population measurements for this country\n",
    "    populations = country.findall('population')\n",
    "    \n",
    "    country_population =[]      \n",
    "        \n",
    "    #Get the most recent country population \n",
    "    if len(populations) > 0:  #There may be countries with no information about the population (len(population) == 0)          \n",
    "        #Iterate population \n",
    "        for country_population_year in populations: \n",
    "            country_population.append((country_population_year.attrib['year'], country_population_year)) \n",
    "     \n",
    "            #Sort country population measurements by year\n",
    "            country_population.sort(reverse=True) #sort by year in descending order\n",
    "            \n",
    "            #Save the most recent population measure for this country           \n",
    "            most_recent_population_of_this_country = int(country_population[0][1].text)\n",
    "        \n",
    "           \n",
    "        #Get all the population measurements for this country\n",
    "        ethnicgroups = country.findall('ethnicgroup')\n",
    "        \n",
    "        #Get the most recent country population \n",
    "        if len(ethnicgroups) > 0:  #There may be countries with no information about the ethnicgroups (len(ethnicgroups) == 0)          \n",
    "            \n",
    "            #Iterate ethnicgroups \n",
    "            for group in ethnicgroups: \n",
    "                percentage = group.attrib['percentage']\n",
    "                groupName  = group.text\n",
    "                \n",
    "                #Calculate \n",
    "                group_population = most_recent_population_of_this_country * float(percentage) /100               \n",
    "                \n",
    "                list_ethnicgroup.append(groupName)                               \n",
    "                list_group_population.append(group_population)      \n"
   ]
  },
  {
   "cell_type": "code",
   "execution_count": 273,
   "metadata": {
    "collapsed": false
   },
   "outputs": [
    {
     "data": {
      "text/html": [
       "<div>\n",
       "<table border=\"1\" class=\"dataframe\">\n",
       "  <thead>\n",
       "    <tr style=\"text-align: right;\">\n",
       "      <th></th>\n",
       "      <th>group_population</th>\n",
       "    </tr>\n",
       "    <tr>\n",
       "      <th>ethnic_group</th>\n",
       "      <th></th>\n",
       "    </tr>\n",
       "  </thead>\n",
       "  <tbody>\n",
       "    <tr>\n",
       "      <th>Han Chinese</th>\n",
       "      <td>1.245059e+09</td>\n",
       "    </tr>\n",
       "    <tr>\n",
       "      <th>Indo-Aryan</th>\n",
       "      <td>8.718156e+08</td>\n",
       "    </tr>\n",
       "    <tr>\n",
       "      <th>European</th>\n",
       "      <td>4.948722e+08</td>\n",
       "    </tr>\n",
       "    <tr>\n",
       "      <th>African</th>\n",
       "      <td>3.183251e+08</td>\n",
       "    </tr>\n",
       "    <tr>\n",
       "      <th>Dravidian</th>\n",
       "      <td>3.027137e+08</td>\n",
       "    </tr>\n",
       "    <tr>\n",
       "      <th>Mestizo</th>\n",
       "      <td>1.577344e+08</td>\n",
       "    </tr>\n",
       "    <tr>\n",
       "      <th>Bengali</th>\n",
       "      <td>1.467769e+08</td>\n",
       "    </tr>\n",
       "    <tr>\n",
       "      <th>Russian</th>\n",
       "      <td>1.318570e+08</td>\n",
       "    </tr>\n",
       "    <tr>\n",
       "      <th>Japanese</th>\n",
       "      <td>1.265342e+08</td>\n",
       "    </tr>\n",
       "    <tr>\n",
       "      <th>Malay</th>\n",
       "      <td>1.219936e+08</td>\n",
       "    </tr>\n",
       "  </tbody>\n",
       "</table>\n",
       "</div>"
      ],
      "text/plain": [
       "              group_population\n",
       "ethnic_group                  \n",
       "Han Chinese       1.245059e+09\n",
       "Indo-Aryan        8.718156e+08\n",
       "European          4.948722e+08\n",
       "African           3.183251e+08\n",
       "Dravidian         3.027137e+08\n",
       "Mestizo           1.577344e+08\n",
       "Bengali           1.467769e+08\n",
       "Russian           1.318570e+08\n",
       "Japanese          1.265342e+08\n",
       "Malay             1.219936e+08"
      ]
     },
     "execution_count": 273,
     "metadata": {},
     "output_type": "execute_result"
    }
   ],
   "source": [
    "#Create a pandas data frame with the necessary data\n",
    "df = pd.DataFrame(\n",
    "    {'ethnic_group': list_ethnicgroup,     \n",
    "     'group_population': list_group_population     \n",
    "    })\n",
    "\n",
    "#Sum all the populations of each group for each country\n",
    "total_population_each_group = df.groupby(['ethnic_group'])[['group_population']].sum()\n",
    "\n",
    "#Solution\n",
    "total_population_each_group.sort_values('group_population', ascending=False).head(10)\n"
   ]
  },
  {
   "cell_type": "code",
   "execution_count": 274,
   "metadata": {
    "collapsed": true
   },
   "outputs": [],
   "source": [
    "#Exercise 4: name and country of a) longest river, b) largest lake and c) airport at highest elevation"
   ]
  },
  {
   "cell_type": "code",
   "execution_count": 275,
   "metadata": {
    "collapsed": false
   },
   "outputs": [
    {
     "data": {
      "text/html": [
       "<div>\n",
       "<table border=\"1\" class=\"dataframe\">\n",
       "  <thead>\n",
       "    <tr style=\"text-align: right;\">\n",
       "      <th></th>\n",
       "      <th>country</th>\n",
       "      <th>country_code</th>\n",
       "    </tr>\n",
       "  </thead>\n",
       "  <tbody>\n",
       "    <tr>\n",
       "      <th>0</th>\n",
       "      <td>Albania</td>\n",
       "      <td>AL</td>\n",
       "    </tr>\n",
       "    <tr>\n",
       "      <th>1</th>\n",
       "      <td>Greece</td>\n",
       "      <td>GR</td>\n",
       "    </tr>\n",
       "    <tr>\n",
       "      <th>2</th>\n",
       "      <td>Macedonia</td>\n",
       "      <td>MK</td>\n",
       "    </tr>\n",
       "    <tr>\n",
       "      <th>3</th>\n",
       "      <td>Serbia</td>\n",
       "      <td>SRB</td>\n",
       "    </tr>\n",
       "    <tr>\n",
       "      <th>4</th>\n",
       "      <td>Montenegro</td>\n",
       "      <td>MNE</td>\n",
       "    </tr>\n",
       "  </tbody>\n",
       "</table>\n",
       "</div>"
      ],
      "text/plain": [
       "      country country_code\n",
       "0     Albania           AL\n",
       "1      Greece           GR\n",
       "2   Macedonia           MK\n",
       "3      Serbia          SRB\n",
       "4  Montenegro          MNE"
      ]
     },
     "execution_count": 275,
     "metadata": {},
     "output_type": "execute_result"
    }
   ],
   "source": [
    "#df country / country_code\n",
    "\n",
    "#Iterate countries\n",
    "list_countries = []\n",
    "list_country_code = []\n",
    "\n",
    "for country in document.iterfind('country'):     \n",
    "    #print country.find('name').text\n",
    "    list_countries.append(country.find('name').text)\n",
    "    list_country_code.append(country.attrib['car_code'])\n",
    "    \n",
    "   \n",
    "df_countries = pd.DataFrame(\n",
    "    {'country': list_countries,     \n",
    "     'country_code': list_country_code     \n",
    "    })\n",
    "\n",
    "df_countries.head()"
   ]
  },
  {
   "cell_type": "code",
   "execution_count": 276,
   "metadata": {
    "collapsed": false
   },
   "outputs": [],
   "source": [
    "#df river / length\n",
    "\n",
    "#Iterate rivers\n",
    "list_rivers = []\n",
    "list_river_length = []\n",
    "list_river_country = []\n",
    "for river in document.iterfind('river'):    \n",
    "    #list_rivers.append(river.find('name').text)\n",
    "    river_name = river.find('name').text\n",
    "    \n",
    "    length = river.find('length')    \n",
    "    \n",
    "    #if isinstance(length, NoneElement):\n",
    "    if length is not None:\n",
    "        river_length = length.text\n",
    "        #list_river_length.append(river.find('length').text) \n",
    "    else:\n",
    "        #list_river_length.append(0) \n",
    "        river_length = 0\n",
    "            \n",
    "    river_country = river.attrib['country']\n",
    "    #print river_country.split()\n",
    "    \n",
    "    for country in river_country.split(): #Get the country codes (note that many rivers go through more than one country)\n",
    "        list_river_country.append(country)        \n",
    "        list_rivers.append(river_name)       \n",
    "        list_river_length.append(river_length) \n",
    "    \n",
    "df_rivers = pd.DataFrame(\n",
    "    {'river': list_rivers,     \n",
    "     'river_length': list_river_length,\n",
    "     'river_country': list_river_country\n",
    "    })\n",
    "\n",
    "#df_rivers.sort_values('river_length', ascending = False).head()\n"
   ]
  },
  {
   "cell_type": "code",
   "execution_count": 277,
   "metadata": {
    "collapsed": false
   },
   "outputs": [
    {
     "data": {
      "text/html": [
       "<div>\n",
       "<table border=\"1\" class=\"dataframe\">\n",
       "  <thead>\n",
       "    <tr style=\"text-align: right;\">\n",
       "      <th></th>\n",
       "      <th>country</th>\n",
       "      <th>country_code</th>\n",
       "      <th>river</th>\n",
       "      <th>river_country</th>\n",
       "      <th>river_length</th>\n",
       "    </tr>\n",
       "  </thead>\n",
       "  <tbody>\n",
       "    <tr>\n",
       "      <th>144</th>\n",
       "      <td>Russia</td>\n",
       "      <td>R</td>\n",
       "      <td>Selenge</td>\n",
       "      <td>R</td>\n",
       "      <td>992</td>\n",
       "    </tr>\n",
       "    <tr>\n",
       "      <th>247</th>\n",
       "      <td>Mongolia</td>\n",
       "      <td>MNG</td>\n",
       "      <td>Selenge</td>\n",
       "      <td>MNG</td>\n",
       "      <td>992</td>\n",
       "    </tr>\n",
       "  </tbody>\n",
       "</table>\n",
       "</div>"
      ],
      "text/plain": [
       "      country country_code    river river_country river_length\n",
       "144    Russia            R  Selenge             R          992\n",
       "247  Mongolia          MNG  Selenge           MNG          992"
      ]
     },
     "execution_count": 277,
     "metadata": {},
     "output_type": "execute_result"
    }
   ],
   "source": [
    "#Merge df rivers with df countries\n",
    "\n",
    "m = df_countries.merge(df_rivers, left_on=df_countries.country_code, right_on=df_rivers.river_country)\n",
    "m.sort_values('river_length', ascending = False).head(2)\n",
    "\n",
    "#Solution: river Selenge, country: Russia and Mongolia"
   ]
  },
  {
   "cell_type": "code",
   "execution_count": 278,
   "metadata": {
    "collapsed": false
   },
   "outputs": [
    {
     "data": {
      "text/html": [
       "<div>\n",
       "<table border=\"1\" class=\"dataframe\">\n",
       "  <thead>\n",
       "    <tr style=\"text-align: right;\">\n",
       "      <th></th>\n",
       "      <th>country_x</th>\n",
       "      <th>country_code</th>\n",
       "      <th>area</th>\n",
       "      <th>country_y</th>\n",
       "      <th>name</th>\n",
       "    </tr>\n",
       "  </thead>\n",
       "  <tbody>\n",
       "    <tr>\n",
       "      <th>64</th>\n",
       "      <td>Kazakhstan</td>\n",
       "      <td>KAZ</td>\n",
       "      <td>386400.0</td>\n",
       "      <td>KAZ</td>\n",
       "      <td>Caspian Sea</td>\n",
       "    </tr>\n",
       "    <tr>\n",
       "      <th>62</th>\n",
       "      <td>Turkmenistan</td>\n",
       "      <td>TM</td>\n",
       "      <td>386400.0</td>\n",
       "      <td>TM</td>\n",
       "      <td>Caspian Sea</td>\n",
       "    </tr>\n",
       "    <tr>\n",
       "      <th>60</th>\n",
       "      <td>Iran</td>\n",
       "      <td>IR</td>\n",
       "      <td>386400.0</td>\n",
       "      <td>IR</td>\n",
       "      <td>Caspian Sea</td>\n",
       "    </tr>\n",
       "    <tr>\n",
       "      <th>36</th>\n",
       "      <td>Russia</td>\n",
       "      <td>R</td>\n",
       "      <td>386400.0</td>\n",
       "      <td>R</td>\n",
       "      <td>Caspian Sea</td>\n",
       "    </tr>\n",
       "  </tbody>\n",
       "</table>\n",
       "</div>"
      ],
      "text/plain": [
       "       country_x country_code      area country_y         name\n",
       "64    Kazakhstan          KAZ  386400.0       KAZ  Caspian Sea\n",
       "62  Turkmenistan           TM  386400.0        TM  Caspian Sea\n",
       "60          Iran           IR  386400.0        IR  Caspian Sea\n",
       "36        Russia            R  386400.0         R  Caspian Sea"
      ]
     },
     "execution_count": 278,
     "metadata": {},
     "output_type": "execute_result"
    }
   ],
   "source": [
    "#Largest lake\n",
    "\n",
    "#Iterate lake\n",
    "list_lakes = []\n",
    "list_lake_area = []\n",
    "list_lake_country = []\n",
    "for lake in document.iterfind('lake'):    \n",
    "    lake_name = lake.find('name').text\n",
    "    \n",
    "    area = lake.find('area')    \n",
    "    \n",
    "    #if isinstance(length, NoneElement):\n",
    "    if area is not None:\n",
    "        lake_area = float(area.text)         \n",
    "    else:        \n",
    "        lake_area = 0\n",
    "            \n",
    "    lake_locations = lake.findall('located')\n",
    "    \n",
    "    for location in lake_locations:\n",
    "        country = location.attrib['country']\n",
    "  \n",
    "        list_lakes.append(lake_name)\n",
    "        list_lake_area.append(lake_area)\n",
    "        list_lake_country.append(country)\n",
    "        \n",
    "    \n",
    "df_lakes = pd.DataFrame(\n",
    "    {'name': list_lakes,     \n",
    "     'area': list_lake_area,\n",
    "     'country': list_lake_country\n",
    "    })\n",
    "#df_lakes\n",
    "\n",
    "\n",
    "#Merge df lakes with df countries\n",
    "\n",
    "m = df_countries.merge(df_lakes, left_on=df_countries.country_code, right_on=df_lakes.country)\n",
    "m.sort_values('area', ascending = False).head(4)\n",
    "\n",
    "#Solution: lake Caspian Sea, countries: Kazakhstan, Turkmenistan, Iran , Russia"
   ]
  },
  {
   "cell_type": "code",
   "execution_count": 279,
   "metadata": {
    "collapsed": false
   },
   "outputs": [
    {
     "data": {
      "text/html": [
       "<div>\n",
       "<table border=\"1\" class=\"dataframe\">\n",
       "  <thead>\n",
       "    <tr style=\"text-align: right;\">\n",
       "      <th></th>\n",
       "      <th>country_x</th>\n",
       "      <th>country_code</th>\n",
       "      <th>country_y</th>\n",
       "      <th>elevation</th>\n",
       "      <th>name</th>\n",
       "    </tr>\n",
       "  </thead>\n",
       "  <tbody>\n",
       "    <tr>\n",
       "      <th>1085</th>\n",
       "      <td>Bolivia</td>\n",
       "      <td>BOL</td>\n",
       "      <td>BOL</td>\n",
       "      <td>4063.0</td>\n",
       "      <td>El Alto Intl</td>\n",
       "    </tr>\n",
       "  </tbody>\n",
       "</table>\n",
       "</div>"
      ],
      "text/plain": [
       "     country_x country_code country_y  elevation          name\n",
       "1085   Bolivia          BOL       BOL     4063.0  El Alto Intl"
      ]
     },
     "execution_count": 279,
     "metadata": {},
     "output_type": "execute_result"
    }
   ],
   "source": [
    "#Highest airport\n",
    "\n",
    "#Iterate airports\n",
    "list_airports = []\n",
    "list_airport_elevation = []\n",
    "list_airport_country = []\n",
    "\n",
    "for airport in document.iterfind('airport'):    \n",
    "    airport_name = airport.find('name').text\n",
    "    \n",
    "    #print airport_name\n",
    "    \n",
    "    elevation = airport.find('elevation') \n",
    "    #print elevation\n",
    "        \n",
    "    #if elevation is None: #does not work ??\n",
    "    if elevation.text is None:\n",
    "    #if isinstance(elevation, NoneElement): #?????????????   \n",
    "        airport_elevation = 0   \n",
    "    else: \n",
    "        #print elevation.text\n",
    "        airport_elevation = float(elevation.text)      \n",
    "        \n",
    "            \n",
    "    airport_country = airport.attrib['country']    \n",
    "   \n",
    "  \n",
    "    list_airports.append(airport_name)\n",
    "    list_airport_elevation.append(airport_elevation)\n",
    "    list_airport_country.append(airport_country)\n",
    "        \n",
    "    \n",
    "df_airports = pd.DataFrame(\n",
    "    {'name': list_airports,     \n",
    "     'elevation': list_airport_elevation,\n",
    "     'country': list_airport_country\n",
    "    })\n",
    "\n",
    "\n",
    "#Merge df airports with df countries\n",
    "\n",
    "m = df_countries.merge(df_airports, left_on=df_countries.country_code, right_on=df_airports.country)\n",
    "m.sort_values('elevation', ascending = False).head(1)\n",
    "\n",
    "#Solution: El Alto Intl, country: Bolivia, elevation 4063 m"
   ]
  }
 ],
 "metadata": {
  "kernelspec": {
   "display_name": "Python 2",
   "language": "python",
   "name": "python2"
  },
  "language_info": {
   "codemirror_mode": {
    "name": "ipython",
    "version": 2
   },
   "file_extension": ".py",
   "mimetype": "text/x-python",
   "name": "python",
   "nbconvert_exporter": "python",
   "pygments_lexer": "ipython2",
   "version": "2.7.13"
  }
 },
 "nbformat": 4,
 "nbformat_minor": 0
}
